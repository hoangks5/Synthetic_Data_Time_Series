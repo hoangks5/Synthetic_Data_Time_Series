{
 "cells": [
  {
   "cell_type": "code",
   "execution_count": 3,
   "metadata": {},
   "outputs": [
    {
     "ename": "AttributeError",
     "evalue": "type object 'NetworkConfig' has no attribute 'oraichain'",
     "output_type": "error",
     "traceback": [
      "\u001b[0;31m---------------------------------------------------------------------------\u001b[0m",
      "\u001b[0;31mAttributeError\u001b[0m                            Traceback (most recent call last)",
      "Cell \u001b[0;32mIn [3], line 4\u001b[0m\n\u001b[1;32m      1\u001b[0m \u001b[39mfrom\u001b[39;00m \u001b[39mcosmpy\u001b[39;00m\u001b[39m.\u001b[39;00m\u001b[39maerial\u001b[39;00m\u001b[39m.\u001b[39;00m\u001b[39mclient\u001b[39;00m \u001b[39mimport\u001b[39;00m LedgerClient, NetworkConfig\n\u001b[1;32m      3\u001b[0m \u001b[39m# connect to Fetch.ai network using default parameters\u001b[39;00m\n\u001b[0;32m----> 4\u001b[0m ledger_client \u001b[39m=\u001b[39m LedgerClient(NetworkConfig\u001b[39m.\u001b[39moraichain())\n\u001b[1;32m      6\u001b[0m alice: \u001b[39mstr\u001b[39m \u001b[39m=\u001b[39m \u001b[39m'\u001b[39m\u001b[39mfetch12q5gw9l9d0yyq2th77x6pjsesczpsly8h5089x\u001b[39m\u001b[39m'\u001b[39m\n\u001b[1;32m      7\u001b[0m balances \u001b[39m=\u001b[39m ledger_client\u001b[39m.\u001b[39mquery_bank_all_balances(alice)\n",
      "\u001b[0;31mAttributeError\u001b[0m: type object 'NetworkConfig' has no attribute 'oraichain'"
     ]
    }
   ],
   "source": [
    "from cosmpy.aerial.client import LedgerClient, NetworkConfig\n",
    "\n",
    "# connect to Fetch.ai network using default parameters\n",
    "ledger_client = LedgerClient(NetworkConfig.oraichain())\n",
    "\n",
    "alice: str = 'fetch12q5gw9l9d0yyq2th77x6pjsesczpsly8h5089x'\n",
    "balances = ledger_client.query_bank_all_balances(alice)\n",
    "\n",
    "# show all coin balances\n",
    "for coin in balances:\n",
    "  print(f'{coin.amount}{coin.denom}')"
   ]
  },
  {
   "cell_type": "code",
   "execution_count": null,
   "metadata": {},
   "outputs": [],
   "source": [
    "cfg = NetworkConfig(\n",
    "    chain_id=\"cosmoshub-4\",\n",
    "    url=\"grpc+https://grpc-cosmoshub.blockapsis.com:429\",\n",
    "    fee_minimum_gas_price=1,\n",
    "    fee_denomination=\"uatom\",\n",
    "    staking_denomination=\"uatom\",\n",
    ")\n",
    "\n",
    "ledger_client = LedgerClient(cfg)\n"
   ]
  }
 ],
 "metadata": {
  "kernelspec": {
   "display_name": "Python 3.8.0 64-bit",
   "language": "python",
   "name": "python3"
  },
  "language_info": {
   "codemirror_mode": {
    "name": "ipython",
    "version": 3
   },
   "file_extension": ".py",
   "mimetype": "text/x-python",
   "name": "python",
   "nbconvert_exporter": "python",
   "pygments_lexer": "ipython3",
   "version": "3.8.0"
  },
  "orig_nbformat": 4,
  "vscode": {
   "interpreter": {
    "hash": "aee8b7b246df8f9039afb4144a1f6fd8d2ca17a180786b69acc140d282b71a49"
   }
  }
 },
 "nbformat": 4,
 "nbformat_minor": 2
}
