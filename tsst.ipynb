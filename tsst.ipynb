{
 "cells": [
  {
   "cell_type": "code",
   "execution_count": 19,
   "metadata": {},
   "outputs": [],
   "source": [
    "from cosmpy.aerial.client import LedgerClient, NetworkConfig"
   ]
  },
  {
   "cell_type": "code",
   "execution_count": 20,
   "metadata": {},
   "outputs": [
    {
     "name": "stdout",
     "output_type": "stream",
     "text": [
      "994900orai\n"
     ]
    }
   ],
   "source": [
    "cfg = NetworkConfig(\n",
    "    chain_id=\"Oraichain\",\n",
    "    url=\"grpc+http://18.223.242.70:9090\",\n",
    "    fee_minimum_gas_price=1,\n",
    "    fee_denomination=\"orai\",\n",
    "    staking_denomination=\"orai\",\n",
    ")\n",
    "\n",
    "ledger_client = LedgerClient(cfg)\n",
    "alice: str = 'orai1zze9d5xk2xa2g44xdf7g9eltlzvn5hm2h7fctk'\n",
    "balances = ledger_client.query_bank_all_balances(alice)\n",
    "\n",
    "# show all coin balances\n",
    "for coin in balances:\n",
    "  print(f'{coin.amount}{coin.denom}')"
   ]
  },
  {
   "cell_type": "code",
   "execution_count": 10,
   "metadata": {},
   "outputs": [],
   "source": [
    "from bip_utils import Bip39SeedGenerator, Bip44, Bip44Coins\n",
    "from cosmpy.aerial.wallet import LocalWallet\n",
    "from cosmpy.crypto.keypairs import PrivateKey\n",
    "mnemonic = \"post thank coil equip shop march above very elbow all few style disease priority mansion quit order top chalk swear intact include off melt\"\n",
    "seed_bytes = Bip39SeedGenerator(mnemonic).Generate()\n",
    "bip44_def_ctx = Bip44.FromSeed(seed_bytes, Bip44Coins.COSMOS).DeriveDefaultPath()\n",
    "\n",
    "wallet = LocalWallet(PrivateKey(bip44_def_ctx.PrivateKey().Raw().ToBytes()))"
   ]
  },
  {
   "cell_type": "code",
   "execution_count": 17,
   "metadata": {},
   "outputs": [
    {
     "data": {
      "text/plain": [
       "'fetch1zze9d5xk2xa2g44xdf7g9eltlzvn5hm2hsklgj'"
      ]
     },
     "execution_count": 17,
     "metadata": {},
     "output_type": "execute_result"
    }
   ],
   "source": [
    "wallet"
   ]
  },
  {
   "cell_type": "code",
   "execution_count": null,
   "metadata": {},
   "outputs": [],
   "source": []
  }
 ],
 "metadata": {
  "kernelspec": {
   "display_name": "Python 3.8.0 64-bit",
   "language": "python",
   "name": "python3"
  },
  "language_info": {
   "codemirror_mode": {
    "name": "ipython",
    "version": 3
   },
   "file_extension": ".py",
   "mimetype": "text/x-python",
   "name": "python",
   "nbconvert_exporter": "python",
   "pygments_lexer": "ipython3",
   "version": "3.8.0"
  },
  "orig_nbformat": 4,
  "vscode": {
   "interpreter": {
    "hash": "aee8b7b246df8f9039afb4144a1f6fd8d2ca17a180786b69acc140d282b71a49"
   }
  }
 },
 "nbformat": 4,
 "nbformat_minor": 2
}
