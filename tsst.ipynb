{
 "cells": [
  {
   "cell_type": "code",
   "execution_count": 19,
   "metadata": {},
   "outputs": [],
   "source": [
    "from cosmpy.aerial.client import LedgerClient, NetworkConfig"
   ]
  },
  {
   "cell_type": "code",
   "execution_count": 40,
   "metadata": {},
   "outputs": [
    {
     "ename": "NetworkConfigError",
     "evalue": "URL must start with one of the following prefixes: \"grpc+https\", \"grpc+http\", \"rest+https\", \"rest+http\"",
     "output_type": "error",
     "traceback": [
      "\u001b[0;31m---------------------------------------------------------------------------\u001b[0m",
      "\u001b[0;31mNetworkConfigError\u001b[0m                        Traceback (most recent call last)",
      "Cell \u001b[0;32mIn [40], line 9\u001b[0m\n\u001b[1;32m      1\u001b[0m cfg \u001b[39m=\u001b[39m NetworkConfig(\n\u001b[1;32m      2\u001b[0m     chain_id\u001b[39m=\u001b[39m\u001b[39m\"\u001b[39m\u001b[39mOraichain-testnet\u001b[39m\u001b[39m\"\u001b[39m,\n\u001b[1;32m      3\u001b[0m     url\u001b[39m=\u001b[39m\u001b[39m\"\u001b[39m\u001b[39mhttp://18.118.151.163:9090\u001b[39m\u001b[39m\"\u001b[39m,\n\u001b[0;32m   (...)\u001b[0m\n\u001b[1;32m      6\u001b[0m     staking_denomination\u001b[39m=\u001b[39m\u001b[39m\"\u001b[39m\u001b[39morai\u001b[39m\u001b[39m\"\u001b[39m,\n\u001b[1;32m      7\u001b[0m )\n\u001b[0;32m----> 9\u001b[0m ledger_client \u001b[39m=\u001b[39m LedgerClient(cfg)\n\u001b[1;32m     10\u001b[0m alice: \u001b[39mstr\u001b[39m \u001b[39m=\u001b[39m \u001b[39m'\u001b[39m\u001b[39morai1zze9d5xk2xa2g44xdf7g9eltlzvn5hm2h7fctk\u001b[39m\u001b[39m'\u001b[39m\n\u001b[1;32m     11\u001b[0m balances \u001b[39m=\u001b[39m ledger_client\u001b[39m.\u001b[39mquery_bank_all_balances(alice)\n",
      "File \u001b[0;32m/Library/Frameworks/Python.framework/Versions/3.8/lib/python3.8/site-packages/cosmpy/aerial/client/__init__.py:179\u001b[0m, in \u001b[0;36mLedgerClient.__init__\u001b[0;34m(self, cfg)\u001b[0m\n\u001b[1;32m    174\u001b[0m \u001b[39mdef\u001b[39;00m \u001b[39m__init__\u001b[39m(\u001b[39mself\u001b[39m, cfg: NetworkConfig):\n\u001b[1;32m    175\u001b[0m     \u001b[39m\"\"\"Init ledger client.\u001b[39;00m\n\u001b[1;32m    176\u001b[0m \n\u001b[1;32m    177\u001b[0m \u001b[39m    :param cfg: Network configurations\u001b[39;00m\n\u001b[1;32m    178\u001b[0m \u001b[39m    \"\"\"\u001b[39;00m\n\u001b[0;32m--> 179\u001b[0m     cfg\u001b[39m.\u001b[39;49mvalidate()\n\u001b[1;32m    180\u001b[0m     \u001b[39mself\u001b[39m\u001b[39m.\u001b[39m_network_config \u001b[39m=\u001b[39m cfg\n\u001b[1;32m    181\u001b[0m     \u001b[39mself\u001b[39m\u001b[39m.\u001b[39m_gas_strategy: GasStrategy \u001b[39m=\u001b[39m SimulationGasStrategy(\u001b[39mself\u001b[39m)\n",
      "File \u001b[0;32m/Library/Frameworks/Python.framework/Versions/3.8/lib/python3.8/site-packages/cosmpy/aerial/config.py:75\u001b[0m, in \u001b[0;36mNetworkConfig.validate\u001b[0;34m(self)\u001b[0m\n\u001b[1;32m     66\u001b[0m \u001b[39mif\u001b[39;00m \u001b[39mnot\u001b[39;00m \u001b[39many\u001b[39m(\n\u001b[1;32m     67\u001b[0m     \u001b[39mmap\u001b[39m(\n\u001b[1;32m     68\u001b[0m         \u001b[39mlambda\u001b[39;00m x: \u001b[39mself\u001b[39m\u001b[39m.\u001b[39murl\u001b[39m.\u001b[39mstartswith(  \u001b[39m# noqa: # pylint: disable=unnecessary-lambda\u001b[39;00m\n\u001b[0;32m   (...)\u001b[0m\n\u001b[1;32m     72\u001b[0m     )\n\u001b[1;32m     73\u001b[0m ):\n\u001b[1;32m     74\u001b[0m     prefix_list \u001b[39m=\u001b[39m \u001b[39m\"\u001b[39m\u001b[39m, \u001b[39m\u001b[39m\"\u001b[39m\u001b[39m.\u001b[39mjoin(\u001b[39mmap\u001b[39m(\u001b[39mlambda\u001b[39;00m x: \u001b[39mf\u001b[39m\u001b[39m'\u001b[39m\u001b[39m\"\u001b[39m\u001b[39m{\u001b[39;00mx\u001b[39m}\u001b[39;00m\u001b[39m\"\u001b[39m\u001b[39m'\u001b[39m, URL_PREFIXES))\n\u001b[0;32m---> 75\u001b[0m     \u001b[39mraise\u001b[39;00m NetworkConfigError(\n\u001b[1;32m     76\u001b[0m         \u001b[39mf\u001b[39m\u001b[39m\"\u001b[39m\u001b[39mURL must start with one of the following prefixes: \u001b[39m\u001b[39m{\u001b[39;00mprefix_list\u001b[39m}\u001b[39;00m\u001b[39m\"\u001b[39m\n\u001b[1;32m     77\u001b[0m     )\n",
      "\u001b[0;31mNetworkConfigError\u001b[0m: URL must start with one of the following prefixes: \"grpc+https\", \"grpc+http\", \"rest+https\", \"rest+http\""
     ]
    }
   ],
   "source": [
    "cfg = NetworkConfig(\n",
    "    chain_id=\"Oraichain-testnet\",\n",
    "    url=\"grpc+http://18.118.151.163:9090\",\n",
    "    fee_minimum_gas_price=1,\n",
    "    fee_denomination=\"orai\",\n",
    "    staking_denomination=\"orai\",\n",
    ")\n",
    "\n",
    "ledger_client = LedgerClient(cfg)\n",
    "alice: str = 'orai1zze9d5xk2xa2g44xdf7g9eltlzvn5hm2h7fctk'\n",
    "balances = ledger_client.query_bank_all_balances(alice)\n",
    "\n",
    "# show all coin balances\n",
    "for coin in balances:\n",
    "  print(f'{coin.amount}{coin.denom}')"
   ]
  },
  {
   "cell_type": "code",
   "execution_count": 31,
   "metadata": {},
   "outputs": [],
   "source": [
    "from bip_utils import Bip39SeedGenerator, Bip44, Bip44Coins\n",
    "from cosmpy.aerial.wallet import LocalWallet\n",
    "from cosmpy.crypto.keypairs import PrivateKey\n",
    "mnemonic = \"post thank coil equip shop march above very elbow all few style disease priority mansion quit order top chalk swear intact include off melt\"\n",
    "seed_bytes = Bip39SeedGenerator(mnemonic).Generate()\n",
    "bip44_def_ctx = Bip44.FromSeed(seed_bytes, Bip44Coins.COSMOS).DeriveDefaultPath()\n",
    "\n",
    "wallet = LocalWallet(PrivateKey(bip44_def_ctx.PrivateKey().Raw().ToBytes()))"
   ]
  },
  {
   "cell_type": "code",
   "execution_count": 29,
   "metadata": {},
   "outputs": [
    {
     "data": {
      "text/plain": [
       "'fetch1zze9d5xk2xa2g44xdf7g9eltlzvn5hm2hsklgj'"
      ]
     },
     "execution_count": 29,
     "metadata": {},
     "output_type": "execute_result"
    }
   ],
   "source": [
    "wallet.address()"
   ]
  },
  {
   "cell_type": "code",
   "execution_count": 37,
   "metadata": {},
   "outputs": [
    {
     "data": {
      "text/plain": [
       "[Coin(amount='994900', denom='orai')]"
      ]
     },
     "execution_count": 37,
     "metadata": {},
     "output_type": "execute_result"
    }
   ],
   "source": [
    "balances = ledger_client.query_bank_all_balances('orai1zze9d5xk2xa2g44xdf7g9eltlzvn5hm2h7fctk')\n",
    "balances"
   ]
  },
  {
   "cell_type": "code",
   "execution_count": null,
   "metadata": {},
   "outputs": [],
   "source": []
  }
 ],
 "metadata": {
  "kernelspec": {
   "display_name": "Python 3.8.0 64-bit",
   "language": "python",
   "name": "python3"
  },
  "language_info": {
   "codemirror_mode": {
    "name": "ipython",
    "version": 3
   },
   "file_extension": ".py",
   "mimetype": "text/x-python",
   "name": "python",
   "nbconvert_exporter": "python",
   "pygments_lexer": "ipython3",
   "version": "3.8.0"
  },
  "orig_nbformat": 4,
  "vscode": {
   "interpreter": {
    "hash": "aee8b7b246df8f9039afb4144a1f6fd8d2ca17a180786b69acc140d282b71a49"
   }
  }
 },
 "nbformat": 4,
 "nbformat_minor": 2
}
