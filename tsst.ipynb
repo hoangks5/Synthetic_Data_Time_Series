{
 "cells": [
  {
   "cell_type": "code",
   "execution_count": null,
   "metadata": {},
   "outputs": [],
   "source": [
    "from cosmpy.aerial.client import LedgerClient, NetworkConfig"
   ]
  },
  {
   "cell_type": "code",
   "execution_count": 47,
   "metadata": {},
   "outputs": [
    {
     "ename": "_InactiveRpcError",
     "evalue": "<_InactiveRpcError of RPC that terminated with:\n\tstatus = StatusCode.UNAVAILABLE\n\tdetails = \"failed to connect to all addresses\"\n\tdebug_error_string = \"{\"created\":\"@1666776324.410413000\",\"description\":\"Failed to pick subchannel\",\"file\":\"src/core/ext/filters/client_channel/client_channel.cc\",\"file_line\":3261,\"referenced_errors\":[{\"created\":\"@1666776324.410412000\",\"description\":\"failed to connect to all addresses\",\"file\":\"src/core/lib/transport/error_utils.cc\",\"file_line\":167,\"grpc_status\":14}]}\"\n>",
     "output_type": "error",
     "traceback": [
      "\u001b[0;31m---------------------------------------------------------------------------\u001b[0m",
      "\u001b[0;31m_InactiveRpcError\u001b[0m                         Traceback (most recent call last)",
      "Cell \u001b[0;32mIn [47], line 11\u001b[0m\n\u001b[1;32m      9\u001b[0m ledger_client \u001b[39m=\u001b[39m LedgerClient(cfg)\n\u001b[1;32m     10\u001b[0m alice: \u001b[39mstr\u001b[39m \u001b[39m=\u001b[39m \u001b[39m'\u001b[39m\u001b[39morai1zze9d5xk2xa2g44xdf7g9eltlzvn5hm2h7fctk\u001b[39m\u001b[39m'\u001b[39m\n\u001b[0;32m---> 11\u001b[0m balances \u001b[39m=\u001b[39m ledger_client\u001b[39m.\u001b[39mquery_bank_all_balances(alice)\n\u001b[1;32m     13\u001b[0m \u001b[39m# show all coin balances\u001b[39;00m\n\u001b[1;32m     14\u001b[0m balances\n",
      "File \u001b[0;32m/Library/Frameworks/Python.framework/Versions/3.8/lib/python3.8/site-packages/cosmpy/aerial/client/__init__.py:299\u001b[0m, in \u001b[0;36mLedgerClient.query_bank_all_balances\u001b[0;34m(self, address)\u001b[0m\n\u001b[1;32m    293\u001b[0m \u001b[39m\"\"\"Query bank all balances.\u001b[39;00m\n\u001b[1;32m    294\u001b[0m \n\u001b[1;32m    295\u001b[0m \u001b[39m:param address: address\u001b[39;00m\n\u001b[1;32m    296\u001b[0m \u001b[39m:return: bank all balances\u001b[39;00m\n\u001b[1;32m    297\u001b[0m \u001b[39m\"\"\"\u001b[39;00m\n\u001b[1;32m    298\u001b[0m req \u001b[39m=\u001b[39m QueryAllBalancesRequest(address\u001b[39m=\u001b[39m\u001b[39mstr\u001b[39m(address))\n\u001b[0;32m--> 299\u001b[0m resp \u001b[39m=\u001b[39m \u001b[39mself\u001b[39;49m\u001b[39m.\u001b[39;49mbank\u001b[39m.\u001b[39;49mAllBalances(req)\n\u001b[1;32m    301\u001b[0m \u001b[39mreturn\u001b[39;00m [Coin(amount\u001b[39m=\u001b[39mcoin\u001b[39m.\u001b[39mamount, denom\u001b[39m=\u001b[39mcoin\u001b[39m.\u001b[39mdenom) \u001b[39mfor\u001b[39;00m coin \u001b[39min\u001b[39;00m resp\u001b[39m.\u001b[39mbalances]\n",
      "File \u001b[0;32m/Library/Frameworks/Python.framework/Versions/3.8/lib/python3.8/site-packages/grpc/_channel.py:946\u001b[0m, in \u001b[0;36m_UnaryUnaryMultiCallable.__call__\u001b[0;34m(self, request, timeout, metadata, credentials, wait_for_ready, compression)\u001b[0m\n\u001b[1;32m    937\u001b[0m \u001b[39mdef\u001b[39;00m \u001b[39m__call__\u001b[39m(\u001b[39mself\u001b[39m,\n\u001b[1;32m    938\u001b[0m              request,\n\u001b[1;32m    939\u001b[0m              timeout\u001b[39m=\u001b[39m\u001b[39mNone\u001b[39;00m,\n\u001b[0;32m   (...)\u001b[0m\n\u001b[1;32m    942\u001b[0m              wait_for_ready\u001b[39m=\u001b[39m\u001b[39mNone\u001b[39;00m,\n\u001b[1;32m    943\u001b[0m              compression\u001b[39m=\u001b[39m\u001b[39mNone\u001b[39;00m):\n\u001b[1;32m    944\u001b[0m     state, call, \u001b[39m=\u001b[39m \u001b[39mself\u001b[39m\u001b[39m.\u001b[39m_blocking(request, timeout, metadata, credentials,\n\u001b[1;32m    945\u001b[0m                                   wait_for_ready, compression)\n\u001b[0;32m--> 946\u001b[0m     \u001b[39mreturn\u001b[39;00m _end_unary_response_blocking(state, call, \u001b[39mFalse\u001b[39;49;00m, \u001b[39mNone\u001b[39;49;00m)\n",
      "File \u001b[0;32m/Library/Frameworks/Python.framework/Versions/3.8/lib/python3.8/site-packages/grpc/_channel.py:849\u001b[0m, in \u001b[0;36m_end_unary_response_blocking\u001b[0;34m(state, call, with_call, deadline)\u001b[0m\n\u001b[1;32m    847\u001b[0m         \u001b[39mreturn\u001b[39;00m state\u001b[39m.\u001b[39mresponse\n\u001b[1;32m    848\u001b[0m \u001b[39melse\u001b[39;00m:\n\u001b[0;32m--> 849\u001b[0m     \u001b[39mraise\u001b[39;00m _InactiveRpcError(state)\n",
      "\u001b[0;31m_InactiveRpcError\u001b[0m: <_InactiveRpcError of RPC that terminated with:\n\tstatus = StatusCode.UNAVAILABLE\n\tdetails = \"failed to connect to all addresses\"\n\tdebug_error_string = \"{\"created\":\"@1666776324.410413000\",\"description\":\"Failed to pick subchannel\",\"file\":\"src/core/ext/filters/client_channel/client_channel.cc\",\"file_line\":3261,\"referenced_errors\":[{\"created\":\"@1666776324.410412000\",\"description\":\"failed to connect to all addresses\",\"file\":\"src/core/lib/transport/error_utils.cc\",\"file_line\":167,\"grpc_status\":14}]}\"\n>"
     ]
    }
   ],
   "source": [
    "cfg = NetworkConfig(\n",
    "    chain_id=\"Oraichain-testnet\",\n",
    "    url=\"grpc+http://18.118.151.163:9090\",\n",
    "    fee_minimum_gas_price=1,\n",
    "    fee_denomination=\"orai\",\n",
    "    staking_denomination=\"orai\",\n",
    ")\n",
    "\n",
    "ledger_client = LedgerClient(cfg)\n",
    "alice: str = 'orai1zze9d5xk2xa2g44xdf7g9eltlzvn5hm2h7fctk'\n",
    "balances = ledger_client.query_bank_all_balances(alice)\n",
    "\n",
    "# show all coin balances\n",
    "balances"
   ]
  },
  {
   "cell_type": "code",
   "execution_count": 31,
   "metadata": {},
   "outputs": [],
   "source": [
    "from bip_utils import Bip39SeedGenerator, Bip44, Bip44Coins\n",
    "from cosmpy.aerial.wallet import LocalWallet\n",
    "from cosmpy.crypto.keypairs import PrivateKey\n",
    "import os\n",
    "from dotenv import load_dotenv\n",
    "\n",
    "load_dotenv()\n",
    "mnemonic = os.Pr\n",
    "seed_bytes = Bip39SeedGenerator(mnemonic).Generate()\n",
    "bip44_def_ctx = Bip44.FromSeed(seed_bytes, Bip44Coins.COSMOS).DeriveDefaultPath()\n",
    "\n",
    "wallet = LocalWallet(PrivateKey(bip44_def_ctx.PrivateKey().Raw().ToBytes()))"
   ]
  },
  {
   "cell_type": "code",
   "execution_count": 29,
   "metadata": {},
   "outputs": [
    {
     "data": {
      "text/plain": [
       "'fetch1zze9d5xk2xa2g44xdf7g9eltlzvn5hm2hsklgj'"
      ]
     },
     "execution_count": 29,
     "metadata": {},
     "output_type": "execute_result"
    }
   ],
   "source": [
    "wallet.address()"
   ]
  },
  {
   "cell_type": "code",
   "execution_count": 37,
   "metadata": {},
   "outputs": [
    {
     "data": {
      "text/plain": [
       "[Coin(amount='994900', denom='orai')]"
      ]
     },
     "execution_count": 37,
     "metadata": {},
     "output_type": "execute_result"
    }
   ],
   "source": [
    "balances = ledger_client.query_bank_all_balances('orai1zze9d5xk2xa2g44xdf7g9eltlzvn5hm2h7fctk')\n",
    "balances"
   ]
  },
  {
   "cell_type": "code",
   "execution_count": null,
   "metadata": {},
   "outputs": [],
   "source": []
  }
 ],
 "metadata": {
  "kernelspec": {
   "display_name": "Python 3.8.0 64-bit",
   "language": "python",
   "name": "python3"
  },
  "language_info": {
   "codemirror_mode": {
    "name": "ipython",
    "version": 3
   },
   "file_extension": ".py",
   "mimetype": "text/x-python",
   "name": "python",
   "nbconvert_exporter": "python",
   "pygments_lexer": "ipython3",
   "version": "3.8.0"
  },
  "orig_nbformat": 4,
  "vscode": {
   "interpreter": {
    "hash": "aee8b7b246df8f9039afb4144a1f6fd8d2ca17a180786b69acc140d282b71a49"
   }
  }
 },
 "nbformat": 4,
 "nbformat_minor": 2
}
