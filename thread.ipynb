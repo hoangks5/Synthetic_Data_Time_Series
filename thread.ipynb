{
 "cells": [
  {
   "cell_type": "code",
   "execution_count": 49,
   "metadata": {},
   "outputs": [],
   "source": [
    "from multiprocessing import Pool\n",
    "import threading"
   ]
  },
  {
   "cell_type": "code",
   "execution_count": 50,
   "metadata": {},
   "outputs": [
    {
     "data": {
      "text/plain": [
       "4999950000"
      ]
     },
     "execution_count": 50,
     "metadata": {},
     "output_type": "execute_result"
    }
   ],
   "source": [
    "number = 0\n",
    "for i in range(0,100000):\n",
    "    number += i\n",
    "number"
   ]
  },
  {
   "cell_type": "code",
   "execution_count": 51,
   "metadata": {},
   "outputs": [],
   "source": [
    "index = [None]*10\n",
    "threads = [None] * 10"
   ]
  },
  {
   "cell_type": "code",
   "execution_count": 52,
   "metadata": {},
   "outputs": [],
   "source": [
    "def sumss(i):\n",
    "    a = i*10000\n",
    "    b = i*10000+10000\n",
    "    to = 0\n",
    "    for i in range(a,b):\n",
    "        to += i\n",
    "    index[i] = to\n"
   ]
  },
  {
   "cell_type": "code",
   "execution_count": 53,
   "metadata": {},
   "outputs": [
    {
     "name": "stderr",
     "output_type": "stream",
     "text": [
      "Exception in thread Exception in thread Thread-76 (sumss):\n",
      "Traceback (most recent call last):\n",
      "  File \"/Library/Frameworks/Python.framework/Versions/3.10/lib/python3.10/threading.py\", line 1009, in _bootstrap_inner\n",
      "Thread-75 (sumss):\n",
      "Traceback (most recent call last):\n",
      "  File \"/Library/Frameworks/Python.framework/Versions/3.10/lib/python3.10/threading.py\", line 1009, in _bootstrap_inner\n",
      "Exception in thread Thread-77 (sumss):\n",
      "Traceback (most recent call last):\n",
      "  File \"/Library/Frameworks/Python.framework/Versions/3.10/lib/python3.10/threading.py\", line 1009, in _bootstrap_inner\n",
      "Exception in thread Thread-78 (sumss):\n",
      "Traceback (most recent call last):\n",
      "  File \"/Library/Frameworks/Python.framework/Versions/3.10/lib/python3.10/threading.py\", line 1009, in _bootstrap_inner\n",
      "Exception in thread Thread-79 (sumss):\n",
      "Traceback (most recent call last):\n",
      "  File \"/Library/Frameworks/Python.framework/Versions/3.10/lib/python3.10/threading.py\", line 1009, in _bootstrap_inner\n",
      "Exception in thread Thread-80 (sumss):\n",
      "Traceback (most recent call last):\n",
      "  File \"/Library/Frameworks/Python.framework/Versions/3.10/lib/python3.10/threading.py\", line 1009, in _bootstrap_inner\n",
      "    self.run()\n",
      "  File \"/Library/Frameworks/Python.framework/Versions/3.10/lib/python3.10/threading.py\", line 946, in run\n",
      "    self._target(*self._args, **self._kwargs)\n",
      "  File \"/var/folders/vq/lr9jr0w132n5fxzlgyfxgg3h0000gn/T/ipykernel_92054/696754190.py\", line 5, in sumss\n",
      "    self.run()\n",
      "  File \"/Library/Frameworks/Python.framework/Versions/3.10/lib/python3.10/threading.py\", line 946, in run\n",
      "Exception in thread Thread-81 (sumss):\n",
      "Traceback (most recent call last):\n",
      "  File \"/Library/Frameworks/Python.framework/Versions/3.10/lib/python3.10/threading.py\", line 1009, in _bootstrap_inner\n",
      "Exception in thread Thread-82 (sumss):\n",
      "Traceback (most recent call last):\n",
      "  File \"/Library/Frameworks/Python.framework/Versions/3.10/lib/python3.10/threading.py\", line 1009, in _bootstrap_inner\n",
      "    self.run()\n",
      "  File \"/Library/Frameworks/Python.framework/Versions/3.10/lib/python3.10/threading.py\", line 946, in run\n",
      "    self.run()\n",
      "  File \"/Library/Frameworks/Python.framework/Versions/3.10/lib/python3.10/threading.py\", line 946, in run\n",
      "Exception in thread Thread-83 (sumss):\n",
      "Traceback (most recent call last):\n",
      "  File \"/Library/Frameworks/Python.framework/Versions/3.10/lib/python3.10/threading.py\", line 1009, in _bootstrap_inner\n",
      "    self.run()\n",
      "  File \"/Library/Frameworks/Python.framework/Versions/3.10/lib/python3.10/threading.py\", line 946, in run\n",
      "    self.run()\n",
      "  File \"/Library/Frameworks/Python.framework/Versions/3.10/lib/python3.10/threading.py\", line 946, in run\n",
      "Exception in thread Thread-84 (sumss):\n",
      "Traceback (most recent call last):\n",
      "  File \"/Library/Frameworks/Python.framework/Versions/3.10/lib/python3.10/threading.py\", line 1009, in _bootstrap_inner\n",
      "    self.run()\n",
      "  File \"/Library/Frameworks/Python.framework/Versions/3.10/lib/python3.10/threading.py\", line 946, in run\n",
      "IndexError: list assignment index out of range\n",
      "    self._target(*self._args, **self._kwargs)\n",
      "  File \"/var/folders/vq/lr9jr0w132n5fxzlgyfxgg3h0000gn/T/ipykernel_92054/696754190.py\", line 5, in sumss\n",
      "    self.run()\n",
      "  File \"/Library/Frameworks/Python.framework/Versions/3.10/lib/python3.10/threading.py\", line 946, in run\n",
      "IndexError    self.run()\n",
      "  File \"/Library/Frameworks/Python.framework/Versions/3.10/lib/python3.10/threading.py\", line 946, in run\n",
      ": list assignment index out of range\n",
      "    self._target(*self._args, **self._kwargs)\n",
      "  File \"/var/folders/vq/lr9jr0w132n5fxzlgyfxgg3h0000gn/T/ipykernel_92054/696754190.py\", line 5, in sumss\n",
      "    self._target(*self._args, **self._kwargs)\n",
      "  File \"/var/folders/vq/lr9jr0w132n5fxzlgyfxgg3h0000gn/T/ipykernel_92054/696754190.py\", line 5, in sumss\n",
      "IndexError: list assignment index out of range\n",
      "    self.run()\n",
      "  File \"/Library/Frameworks/Python.framework/Versions/3.10/lib/python3.10/threading.py\", line 946, in run\n",
      "    self._target(*self._args, **self._kwargs)\n",
      "  File \"/var/folders/vq/lr9jr0w132n5fxzlgyfxgg3h0000gn/T/ipykernel_92054/696754190.py\", line 5, in sumss\n",
      "    self._target(*self._args, **self._kwargs)\n",
      "  File \"/var/folders/vq/lr9jr0w132n5fxzlgyfxgg3h0000gn/T/ipykernel_92054/696754190.py\", line 5, in sumss\n",
      "    self._target(*self._args, **self._kwargs)\n",
      "  File \"/var/folders/vq/lr9jr0w132n5fxzlgyfxgg3h0000gn/T/ipykernel_92054/696754190.py\", line 5, in sumss\n",
      "    self._target(*self._args, **self._kwargs)\n",
      "  File \"/var/folders/vq/lr9jr0w132n5fxzlgyfxgg3h0000gn/T/ipykernel_92054/696754190.py\", line 5, in sumss\n",
      "    self._target(*self._args, **self._kwargs)\n",
      "  File \"/var/folders/vq/lr9jr0w132n5fxzlgyfxgg3h0000gn/T/ipykernel_92054/696754190.py\", line 5, in sumss\n",
      "    IndexError: list assignment index out of range\n",
      "IndexError: list assignment index out of range\n",
      "self._target(*self._args, **self._kwargs)\n",
      "  File \"/var/folders/vq/lr9jr0w132n5fxzlgyfxgg3h0000gn/T/ipykernel_92054/696754190.py\", line 5, in sumss\n",
      "IndexError: list assignment index out of range\n",
      "IndexError: list assignment index out of range\n",
      "IndexError: list assignment index out of range\n",
      "IndexErrorIndexError: list assignment index out of range\n",
      ": list assignment index out of range\n"
     ]
    }
   ],
   "source": [
    "for i in range(0,10,1):\n",
    "    threads[i] = threading.Thread(target=sumss,args=(i))\n",
    "    threads[i].start()\n",
    "    "
   ]
  },
  {
   "cell_type": "code",
   "execution_count": 54,
   "metadata": {},
   "outputs": [
    {
     "data": {
      "text/plain": [
       "[<Thread(Thread-75 (sumss), stopped 123145501958144)>,\n",
       " <Thread(Thread-76 (sumss), stopped 123145518747648)>,\n",
       " <Thread(Thread-77 (sumss), stopped 123145535537152)>,\n",
       " <Thread(Thread-78 (sumss), stopped 123145552326656)>,\n",
       " <Thread(Thread-79 (sumss), stopped 123145569116160)>,\n",
       " <Thread(Thread-80 (sumss), stopped 123145585905664)>,\n",
       " <Thread(Thread-81 (sumss), stopped 123145602695168)>,\n",
       " <Thread(Thread-82 (sumss), stopped 123145619484672)>,\n",
       " <Thread(Thread-83 (sumss), stopped 123145636274176)>,\n",
       " <Thread(Thread-84 (sumss), stopped 123145653063680)>]"
      ]
     },
     "execution_count": 54,
     "metadata": {},
     "output_type": "execute_result"
    }
   ],
   "source": [
    "threads"
   ]
  },
  {
   "cell_type": "code",
   "execution_count": 55,
   "metadata": {},
   "outputs": [
    {
     "data": {
      "text/plain": [
       "[None, None, None, None, None, None, None, None, None, None]"
      ]
     },
     "execution_count": 55,
     "metadata": {},
     "output_type": "execute_result"
    }
   ],
   "source": [
    "index"
   ]
  },
  {
   "cell_type": "code",
   "execution_count": null,
   "metadata": {},
   "outputs": [],
   "source": []
  }
 ],
 "metadata": {
  "kernelspec": {
   "display_name": "Python 3.10.0 64-bit",
   "language": "python",
   "name": "python3"
  },
  "language_info": {
   "codemirror_mode": {
    "name": "ipython",
    "version": 3
   },
   "file_extension": ".py",
   "mimetype": "text/x-python",
   "name": "python",
   "nbconvert_exporter": "python",
   "pygments_lexer": "ipython3",
   "version": "3.10.0"
  },
  "orig_nbformat": 4,
  "vscode": {
   "interpreter": {
    "hash": "7e1998ff7f8aa20ada591c520b972326324e5ea05489af9e422744c7c09f6dad"
   }
  }
 },
 "nbformat": 4,
 "nbformat_minor": 2
}
