{
 "cells": [
  {
   "cell_type": "code",
   "execution_count": 71,
   "metadata": {},
   "outputs": [],
   "source": [
    "from multiprocessing import Pool\n",
    "import threading"
   ]
  },
  {
   "cell_type": "code",
   "execution_count": 72,
   "metadata": {},
   "outputs": [
    {
     "data": {
      "text/plain": [
       "4999950000"
      ]
     },
     "execution_count": 72,
     "metadata": {},
     "output_type": "execute_result"
    }
   ],
   "source": [
    "number = 0\n",
    "for i in range(0,100000):\n",
    "    number += i\n",
    "number"
   ]
  },
  {
   "cell_type": "code",
   "execution_count": 73,
   "metadata": {},
   "outputs": [],
   "source": [
    "index = [None]*10\n",
    "threads = [None] * 10"
   ]
  },
  {
   "cell_type": "code",
   "execution_count": 74,
   "metadata": {},
   "outputs": [],
   "source": [
    "def sumss(i):\n",
    "    a = i*10000\n",
    "    b = i*10000+10000\n",
    "    to = 0\n",
    "    for i in range(a,b):\n",
    "        to += i\n",
    "    index[i] = to\n",
    "    print(index[i])\n"
   ]
  },
  {
   "cell_type": "code",
   "execution_count": 75,
   "metadata": {},
   "outputs": [
    {
     "name": "stderr",
     "output_type": "stream",
     "text": [
      "Exception in thread Exception in thread Thread-136 (sumss):\n",
      "Traceback (most recent call last):\n",
      "  File \"/Library/Frameworks/Python.framework/Versions/3.10/lib/python3.10/threading.py\", line 1009, in _bootstrap_inner\n",
      "Thread-135 (sumss):\n",
      "Traceback (most recent call last):\n",
      "  File \"/Library/Frameworks/Python.framework/Versions/3.10/lib/python3.10/threading.py\", line 1009, in _bootstrap_inner\n",
      "Exception in thread Thread-137 (sumss):\n",
      "Traceback (most recent call last):\n",
      "  File \"/Library/Frameworks/Python.framework/Versions/3.10/lib/python3.10/threading.py\", line 1009, in _bootstrap_inner\n",
      "    self.run()\n",
      "  File \"/Library/Frameworks/Python.framework/Versions/3.10/lib/python3.10/threading.py\", line 946, in run\n",
      "    self.run()\n",
      "  File \"/Library/Frameworks/Python.framework/Versions/3.10/lib/python3.10/threading.py\", line 946, in run\n",
      "    self._target(*self._args, **self._kwargs)\n",
      "  File \"/var/folders/vq/lr9jr0w132n5fxzlgyfxgg3h0000gn/T/ipykernel_92054/3837916719.py\", line 7, in sumss\n",
      "Exception in thread Thread-138 (sumss):\n",
      "Traceback (most recent call last):\n",
      "  File \"/Library/Frameworks/Python.framework/Versions/3.10/lib/python3.10/threading.py\", line 1009, in _bootstrap_inner\n",
      "Exception in thread Thread-139 (sumss):\n",
      "Traceback (most recent call last):\n",
      "  File \"/Library/Frameworks/Python.framework/Versions/3.10/lib/python3.10/threading.py\", line 1009, in _bootstrap_inner\n",
      "Exception in thread Thread-140 (sumss):\n",
      "Traceback (most recent call last):\n",
      "  File \"/Library/Frameworks/Python.framework/Versions/3.10/lib/python3.10/threading.py\", line 1009, in _bootstrap_inner\n",
      "    self.run()\n",
      "  File \"/Library/Frameworks/Python.framework/Versions/3.10/lib/python3.10/threading.py\", line 946, in run\n",
      "Exception in thread Thread-141 (sumss):\n",
      "Traceback (most recent call last):\n",
      "  File \"/Library/Frameworks/Python.framework/Versions/3.10/lib/python3.10/threading.py\", line 1009, in _bootstrap_inner\n",
      "Exception in thread Thread-142 (sumss):\n",
      "Traceback (most recent call last):\n",
      "  File \"/Library/Frameworks/Python.framework/Versions/3.10/lib/python3.10/threading.py\", line 1009, in _bootstrap_inner\n",
      "IndexError: list assignment index out of range\n",
      "Exception in thread Thread-143 (sumss):\n",
      "Traceback (most recent call last):\n",
      "  File \"/Library/Frameworks/Python.framework/Versions/3.10/lib/python3.10/threading.py\", line 1009, in _bootstrap_inner\n",
      "Exception in thread Thread-144 (sumss):\n",
      "Traceback (most recent call last):\n",
      "  File \"/Library/Frameworks/Python.framework/Versions/3.10/lib/python3.10/threading.py\", line 1009, in _bootstrap_inner\n",
      "    self._target(*self._args, **self._kwargs)\n",
      "  File \"/var/folders/vq/lr9jr0w132n5fxzlgyfxgg3h0000gn/T/ipykernel_92054/3837916719.py\", line 7, in sumss\n",
      "    self.run()\n",
      "  File \"/Library/Frameworks/Python.framework/Versions/3.10/lib/python3.10/threading.py\", line 946, in run\n",
      "    self._target(*self._args, **self._kwargs)\n",
      "  File \"/var/folders/vq/lr9jr0w132n5fxzlgyfxgg3h0000gn/T/ipykernel_92054/3837916719.py\", line 7, in sumss\n",
      "IndexError: list assignment index out of range\n",
      "    self.run()\n",
      "  File \"/Library/Frameworks/Python.framework/Versions/3.10/lib/python3.10/threading.py\", line 946, in run\n",
      "    self.run()\n",
      "  File \"/Library/Frameworks/Python.framework/Versions/3.10/lib/python3.10/threading.py\", line 946, in run\n",
      "    self.run()\n",
      "  File \"/Library/Frameworks/Python.framework/Versions/3.10/lib/python3.10/threading.py\", line 946, in run\n",
      "    self._target(*self._args, **self._kwargs)\n",
      "  File \"/var/folders/vq/lr9jr0w132n5fxzlgyfxgg3h0000gn/T/ipykernel_92054/3837916719.py\", line 7, in sumss\n",
      "IndexError: list assignment index out of range\n",
      "    self.run()\n",
      "  File \"/Library/Frameworks/Python.framework/Versions/3.10/lib/python3.10/threading.py\", line 946, in run\n",
      "    self._target(*self._args, **self._kwargs)\n",
      "  File \"/var/folders/vq/lr9jr0w132n5fxzlgyfxgg3h0000gn/T/ipykernel_92054/3837916719.py\", line 7, in sumss\n",
      "    self.run()\n",
      "  File \"/Library/Frameworks/Python.framework/Versions/3.10/lib/python3.10/threading.py\", line 946, in run\n",
      "    self._target(*self._args, **self._kwargs)\n",
      "  File \"/var/folders/vq/lr9jr0w132n5fxzlgyfxgg3h0000gn/T/ipykernel_92054/3837916719.py\", line 7, in sumss\n",
      "    self._target(*self._args, **self._kwargs)\n",
      "  File \"/var/folders/vq/lr9jr0w132n5fxzlgyfxgg3h0000gn/T/ipykernel_92054/3837916719.py\", line 7, in sumss\n",
      "    self.run()\n",
      "  File \"/Library/Frameworks/Python.framework/Versions/3.10/lib/python3.10/threading.py\", line 946, in run\n",
      "    self._target(*self._args, **self._kwargs)\n",
      "  File \"/var/folders/vq/lr9jr0w132n5fxzlgyfxgg3h0000gn/T/ipykernel_92054/3837916719.py\", line 7, in sumss\n",
      "IndexError: list assignment index out of range\n",
      "    self._target(*self._args, **self._kwargs)\n",
      "  File \"/var/folders/vq/lr9jr0w132n5fxzlgyfxgg3h0000gn/T/ipykernel_92054/3837916719.py\", line 7, in sumss\n",
      "IndexError: list assignment index out of range\n",
      "IndexErrorIndexError: list assignment index out of range\n",
      ": list assignment index out of range\n",
      "IndexError: list assignment index out of range\n",
      "IndexError: list assignment index out of range\n",
      "    self._target(*self._args, **self._kwargs)\n",
      "  File \"/var/folders/vq/lr9jr0w132n5fxzlgyfxgg3h0000gn/T/ipykernel_92054/3837916719.py\", line 7, in sumss\n",
      "IndexError: list assignment index out of range\n"
     ]
    }
   ],
   "source": [
    "for i in range(0,10,1):\n",
    "    threads[i] = threading.Thread(target=sumss,args={i,})\n",
    "    threads[i].start()\n",
    "for th in threads:\n",
    "    th.join()\n",
    "    "
   ]
  },
  {
   "cell_type": "code",
   "execution_count": 76,
   "metadata": {},
   "outputs": [
    {
     "data": {
      "text/plain": [
       "[<Thread(Thread-135 (sumss), stopped 123145501958144)>,\n",
       " <Thread(Thread-136 (sumss), stopped 123145518747648)>,\n",
       " <Thread(Thread-137 (sumss), stopped 123145535537152)>,\n",
       " <Thread(Thread-138 (sumss), stopped 123145552326656)>,\n",
       " <Thread(Thread-139 (sumss), stopped 123145569116160)>,\n",
       " <Thread(Thread-140 (sumss), stopped 123145585905664)>,\n",
       " <Thread(Thread-141 (sumss), stopped 123145602695168)>,\n",
       " <Thread(Thread-142 (sumss), stopped 123145619484672)>,\n",
       " <Thread(Thread-143 (sumss), stopped 123145636274176)>,\n",
       " <Thread(Thread-144 (sumss), stopped 123145653063680)>]"
      ]
     },
     "execution_count": 76,
     "metadata": {},
     "output_type": "execute_result"
    }
   ],
   "source": [
    "threads"
   ]
  },
  {
   "cell_type": "code",
   "execution_count": 77,
   "metadata": {},
   "outputs": [
    {
     "data": {
      "text/plain": [
       "[None, None, None, None, None, None, None, None, None, None]"
      ]
     },
     "execution_count": 77,
     "metadata": {},
     "output_type": "execute_result"
    }
   ],
   "source": [
    "index"
   ]
  },
  {
   "cell_type": "code",
   "execution_count": null,
   "metadata": {},
   "outputs": [],
   "source": []
  }
 ],
 "metadata": {
  "kernelspec": {
   "display_name": "Python 3.10.0 64-bit",
   "language": "python",
   "name": "python3"
  },
  "language_info": {
   "codemirror_mode": {
    "name": "ipython",
    "version": 3
   },
   "file_extension": ".py",
   "mimetype": "text/x-python",
   "name": "python",
   "nbconvert_exporter": "python",
   "pygments_lexer": "ipython3",
   "version": "3.10.0"
  },
  "orig_nbformat": 4,
  "vscode": {
   "interpreter": {
    "hash": "7e1998ff7f8aa20ada591c520b972326324e5ea05489af9e422744c7c09f6dad"
   }
  }
 },
 "nbformat": 4,
 "nbformat_minor": 2
}
