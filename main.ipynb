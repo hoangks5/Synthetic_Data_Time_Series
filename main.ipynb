{
 "cells": [
  {
   "cell_type": "code",
   "execution_count": 1,
   "metadata": {},
   "outputs": [],
   "source": [
    "import random\n",
    "import pandas as pd \n",
    "import os\n",
    "        \n",
    "### Create file csv data from sample\n",
    "data_source = 'website_classification.csv'\n",
    "folder = pd.read_csv(data_source)"
   ]
  },
  {
   "cell_type": "code",
   "execution_count": 3,
   "metadata": {},
   "outputs": [
    {
     "data": {
      "text/plain": [
       "0       Travel\n",
       "1       Travel\n",
       "2       Travel\n",
       "3       Travel\n",
       "4       Travel\n",
       "         ...  \n",
       "1403     Adult\n",
       "1404     Adult\n",
       "1405     Adult\n",
       "1406     Adult\n",
       "1407     Adult\n",
       "Name: Category, Length: 1408, dtype: object"
      ]
     },
     "execution_count": 3,
     "metadata": {},
     "output_type": "execute_result"
    }
   ],
   "source": [
    "folder['Category']"
   ]
  },
  {
   "cell_type": "code",
   "execution_count": null,
   "metadata": {},
   "outputs": [],
   "source": []
  }
 ],
 "metadata": {
  "kernelspec": {
   "display_name": "Python 3.8.0 64-bit",
   "language": "python",
   "name": "python3"
  },
  "language_info": {
   "codemirror_mode": {
    "name": "ipython",
    "version": 3
   },
   "file_extension": ".py",
   "mimetype": "text/x-python",
   "name": "python",
   "nbconvert_exporter": "python",
   "pygments_lexer": "ipython3",
   "version": "3.8.0"
  },
  "orig_nbformat": 4,
  "vscode": {
   "interpreter": {
    "hash": "9aa74e60aaf2dd79938ee0273ff1a74eed20e2928b1c5a3de44ed4302fbd8d71"
   }
  }
 },
 "nbformat": 4,
 "nbformat_minor": 2
}
