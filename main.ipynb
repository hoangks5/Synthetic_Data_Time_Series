{
 "cells": [
  {
   "cell_type": "code",
   "execution_count": 22,
   "metadata": {},
   "outputs": [],
   "source": [
    "\n",
    "# Load and preview dataset\n",
    "import datetime\n",
    "import pandas as pd\n",
    "import numpy as np\n",
    "\n",
    "day = 24 * 60 * 60\n",
    "year = 365.2425 * day\n",
    "\n",
    "\n",
    "def load_dataframe() -> pd.DataFrame:\n",
    "    \"\"\" Create a time series x sin wave dataframe. \"\"\"\n",
    "    df = pd.DataFrame(columns=['date', 'sin'])\n",
    "    df.date = pd.date_range(start='2018-01-01', end='2021-03-01', freq='D')\n",
    "    df.sin = 1 + np.sin(df.date.astype('int64') // 1e9 * (2 * np.pi / year))\n",
    "    df.sin = (df.sin * 100).round(2)\n",
    "    df.date = df.date.apply(lambda d: d.strftime('%Y-%m-%d'))\n",
    "    return df\n",
    "\n",
    "train_df = load_dataframe()"
   ]
  },
  {
   "cell_type": "code",
   "execution_count": 18,
   "metadata": {},
   "outputs": [],
   "source": [
    "def trends_only(source_df: pd.DataFrame, trend_col: str) -> (float, pd.DataFrame):\n",
    "    \"\"\" Extract trends as training features vs total volume \"\"\"\n",
    "    df = source_df.copy()\n",
    "    start_val = df.at[0, trend_col]\n",
    "    df.sin = df[[trend_col]].diff()\n",
    "    df.at[0, trend_col] = 0.00\n",
    "    return start_val, df\n",
    "\n",
    "\n",
    "def restore_daily(source_df: pd.DataFrame, start_val: float, trend_col: str):\n",
    "    \"\"\" Restore daily cumulative values from trend data \"\"\"\n",
    "    df = source_df.copy()\n",
    "    df.at[0, trend_col] = start_val\n",
    "    df[trend_col] = df[trend_col].cumsum()\n",
    "    df[trend_col] = df[trend_col].apply(pd.to_numeric, downcast='float', errors='coerce').round(2)\n",
    "    df.dropna(inplace=True)\n",
    "    return df\n",
    "\n",
    "# Extract trends from timeseries column to create training set\n",
    "start_val, trends_df = trends_only(train_df, trend_col)\n",
    "trends_df"
   ]
  },
  {
   "cell_type": "code",
   "execution_count": 20,
   "metadata": {},
   "outputs": [],
   "source": [
    "seed_fields = [\"date\", \"district_id\"]\n",
    "\n",
    "task = {\n",
    "    'type': 'seed',\n",
    "    'attrs': {\n",
    "        'fields': seed_fields,\n",
    "    }\n",
    "}"
   ]
  },
  {
   "cell_type": "code",
   "execution_count": 19,
   "metadata": {},
   "outputs": [
    {
     "ename": "TypeError",
     "evalue": "string indices must be integers",
     "output_type": "error",
     "traceback": [
      "\u001b[0;31m---------------------------------------------------------------------------\u001b[0m",
      "\u001b[0;31mTypeError\u001b[0m                                 Traceback (most recent call last)",
      "Cell \u001b[0;32mIn [19], line 12\u001b[0m\n\u001b[1;32m      4\u001b[0m task \u001b[38;5;241m=\u001b[39m {\n\u001b[1;32m      5\u001b[0m     \u001b[38;5;124m'\u001b[39m\u001b[38;5;124mtype\u001b[39m\u001b[38;5;124m'\u001b[39m: \u001b[38;5;124m'\u001b[39m\u001b[38;5;124mseed\u001b[39m\u001b[38;5;124m'\u001b[39m,\n\u001b[1;32m      6\u001b[0m     \u001b[38;5;124m'\u001b[39m\u001b[38;5;124mattrs\u001b[39m\u001b[38;5;124m'\u001b[39m: {\n\u001b[1;32m      7\u001b[0m         \u001b[38;5;124m'\u001b[39m\u001b[38;5;124mfields\u001b[39m\u001b[38;5;124m'\u001b[39m: seed_fields,\n\u001b[1;32m      8\u001b[0m     }\n\u001b[1;32m      9\u001b[0m }\n\u001b[1;32m     11\u001b[0m \u001b[38;5;66;03m# Fine tune model parameters. These are the parameters we found to work best.  This is \"Run 20\" in the document\u001b[39;00m\n\u001b[0;32m---> 12\u001b[0m config[\u001b[38;5;124m'\u001b[39m\u001b[38;5;124mmodels\u001b[39m\u001b[38;5;124m'\u001b[39m][\u001b[38;5;241m0\u001b[39m][\u001b[38;5;124m'\u001b[39m\u001b[38;5;124msynthetics\u001b[39m\u001b[38;5;124m'\u001b[39m][\u001b[38;5;124m'\u001b[39m\u001b[38;5;124mtask\u001b[39m\u001b[38;5;124m'\u001b[39m] \u001b[38;5;241m=\u001b[39m task\n\u001b[1;32m     14\u001b[0m config[\u001b[38;5;124m'\u001b[39m\u001b[38;5;124mmodels\u001b[39m\u001b[38;5;124m'\u001b[39m][\u001b[38;5;241m0\u001b[39m][\u001b[38;5;124m'\u001b[39m\u001b[38;5;124msynthetics\u001b[39m\u001b[38;5;124m'\u001b[39m][\u001b[38;5;124m'\u001b[39m\u001b[38;5;124mparams\u001b[39m\u001b[38;5;124m'\u001b[39m][\u001b[38;5;124m'\u001b[39m\u001b[38;5;124mvocab_size\u001b[39m\u001b[38;5;124m'\u001b[39m] \u001b[38;5;241m=\u001b[39m \u001b[38;5;241m19\u001b[39m\n\u001b[1;32m     15\u001b[0m config[\u001b[38;5;124m'\u001b[39m\u001b[38;5;124mmodels\u001b[39m\u001b[38;5;124m'\u001b[39m][\u001b[38;5;241m0\u001b[39m][\u001b[38;5;124m'\u001b[39m\u001b[38;5;124msynthetics\u001b[39m\u001b[38;5;124m'\u001b[39m][\u001b[38;5;124m'\u001b[39m\u001b[38;5;124mparams\u001b[39m\u001b[38;5;124m'\u001b[39m][\u001b[38;5;124m'\u001b[39m\u001b[38;5;124mlearning_rate\u001b[39m\u001b[38;5;124m'\u001b[39m] \u001b[38;5;241m=\u001b[39m \u001b[38;5;241m0.001\u001b[39m\n",
      "\u001b[0;31mTypeError\u001b[0m: string indices must be integers"
     ]
    }
   ],
   "source": [
    "#Set up the seed fields\n",
    "seed_fields = [\"date\", \"district_id\"]\n",
    "\n",
    "task = {\n",
    "    'type': 'seed',\n",
    "    'attrs': {\n",
    "        'fields': seed_fields,\n",
    "    }\n",
    "}\n",
    "\n",
    "# Fine tune model parameters. These are the parameters we found to work best.  This is \"Run 20\" in the document\n",
    "config['models'][0]['synthetics']['task'] = task\n",
    "\n",
    "config['models'][0]['synthetics']['params']['vocab_size'] = 19\n",
    "config['models'][0]['synthetics']['params']['learning_rate'] = 0.001\n",
    "config['models'][0]['synthetics']['params']['epochs'] = 500\n",
    "config['models'][0]['synthetics']['params']['dropout_rate'] = .5\n",
    "config['models'][0]['synthetics']['params']['gen_temp'] = .8\n",
    "config['models'][0]['synthetics']['generate']['num_records'] = train_df.shape[0]"
   ]
  },
  {
   "cell_type": "code",
   "execution_count": null,
   "metadata": {},
   "outputs": [],
   "source": []
  }
 ],
 "metadata": {
  "kernelspec": {
   "display_name": "Python 3.10.0 64-bit",
   "language": "python",
   "name": "python3"
  },
  "language_info": {
   "codemirror_mode": {
    "name": "ipython",
    "version": 3
   },
   "file_extension": ".py",
   "mimetype": "text/x-python",
   "name": "python",
   "nbconvert_exporter": "python",
   "pygments_lexer": "ipython3",
   "version": "3.10.0"
  },
  "orig_nbformat": 4,
  "vscode": {
   "interpreter": {
    "hash": "aee8b7b246df8f9039afb4144a1f6fd8d2ca17a180786b69acc140d282b71a49"
   }
  }
 },
 "nbformat": 4,
 "nbformat_minor": 2
}
