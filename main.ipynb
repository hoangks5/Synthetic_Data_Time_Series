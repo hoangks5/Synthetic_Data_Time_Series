{
 "cells": [
  {
   "cell_type": "code",
   "execution_count": 27,
   "metadata": {},
   "outputs": [
    {
     "ename": "ModuleNotFoundError",
     "evalue": "No module named 'copulas'",
     "output_type": "error",
     "traceback": [
      "\u001b[0;31m---------------------------------------------------------------------------\u001b[0m",
      "\u001b[0;31mModuleNotFoundError\u001b[0m                       Traceback (most recent call last)",
      "Cell \u001b[0;32mIn [27], line 1\u001b[0m\n\u001b[0;32m----> 1\u001b[0m \u001b[38;5;28;01mfrom\u001b[39;00m \u001b[38;5;21;01msdv\u001b[39;00m\u001b[38;5;21;01m.\u001b[39;00m\u001b[38;5;21;01mdemo\u001b[39;00m \u001b[38;5;28;01mimport\u001b[39;00m load_timeseries_demo\n",
      "File \u001b[0;32m~/Desktop/Synthetic/sdv/__init__.py:11\u001b[0m\n\u001b[1;32m      8\u001b[0m __email__ \u001b[39m=\u001b[39m \u001b[39m'\u001b[39m\u001b[39mdailabmit@gmail.com\u001b[39m\u001b[39m'\u001b[39m\n\u001b[1;32m      9\u001b[0m __version__ \u001b[39m=\u001b[39m \u001b[39m'\u001b[39m\u001b[39m0.17.2.dev0\u001b[39m\u001b[39m'\u001b[39m\n\u001b[0;32m---> 11\u001b[0m \u001b[39mfrom\u001b[39;00m \u001b[39msdv\u001b[39;00m \u001b[39mimport\u001b[39;00m constraints, evaluation, metadata, relational, tabular\n\u001b[1;32m     12\u001b[0m \u001b[39mfrom\u001b[39;00m \u001b[39msdv\u001b[39;00m\u001b[39m.\u001b[39;00m\u001b[39mdemo\u001b[39;00m \u001b[39mimport\u001b[39;00m get_available_demos, load_demo\n\u001b[1;32m     13\u001b[0m \u001b[39mfrom\u001b[39;00m \u001b[39msdv\u001b[39;00m\u001b[39m.\u001b[39;00m\u001b[39mmetadata\u001b[39;00m \u001b[39mimport\u001b[39;00m Metadata, Table\n",
      "File \u001b[0;32m~/Desktop/Synthetic/sdv/constraints/__init__.py:3\u001b[0m\n\u001b[1;32m      1\u001b[0m \u001b[39m\"\"\"SDV Constraints module.\"\"\"\u001b[39;00m\n\u001b[0;32m----> 3\u001b[0m \u001b[39mfrom\u001b[39;00m \u001b[39msdv\u001b[39;00m\u001b[39m.\u001b[39;00m\u001b[39mconstraints\u001b[39;00m\u001b[39m.\u001b[39;00m\u001b[39mbase\u001b[39;00m \u001b[39mimport\u001b[39;00m Constraint\n\u001b[1;32m      4\u001b[0m \u001b[39mfrom\u001b[39;00m \u001b[39msdv\u001b[39;00m\u001b[39m.\u001b[39;00m\u001b[39mconstraints\u001b[39;00m\u001b[39m.\u001b[39;00m\u001b[39mtabular\u001b[39;00m \u001b[39mimport\u001b[39;00m (\n\u001b[1;32m      5\u001b[0m     FixedCombinations, FixedIncrements, Inequality, Negative, OneHotEncoding, Positive, Range,\n\u001b[1;32m      6\u001b[0m     ScalarInequality, ScalarRange, Unique, create_custom_constraint)\n\u001b[1;32m      8\u001b[0m __all__ \u001b[39m=\u001b[39m [\n\u001b[1;32m      9\u001b[0m     \u001b[39m'\u001b[39m\u001b[39mcreate_custom_constraint\u001b[39m\u001b[39m'\u001b[39m,\n\u001b[1;32m     10\u001b[0m     \u001b[39m'\u001b[39m\u001b[39mConstraint\u001b[39m\u001b[39m'\u001b[39m,\n\u001b[0;32m   (...)\u001b[0m\n\u001b[1;32m     20\u001b[0m     \u001b[39m'\u001b[39m\u001b[39mUnique\u001b[39m\u001b[39m'\u001b[39m\n\u001b[1;32m     21\u001b[0m ]\n",
      "File \u001b[0;32m~/Desktop/Synthetic/sdv/constraints/base.py:9\u001b[0m\n\u001b[1;32m      6\u001b[0m \u001b[39mimport\u001b[39;00m \u001b[39mlogging\u001b[39;00m\n\u001b[1;32m      8\u001b[0m \u001b[39mimport\u001b[39;00m \u001b[39mpandas\u001b[39;00m \u001b[39mas\u001b[39;00m \u001b[39mpd\u001b[39;00m\n\u001b[0;32m----> 9\u001b[0m \u001b[39mfrom\u001b[39;00m \u001b[39mcopulas\u001b[39;00m\u001b[39m.\u001b[39;00m\u001b[39mmultivariate\u001b[39;00m\u001b[39m.\u001b[39;00m\u001b[39mgaussian\u001b[39;00m \u001b[39mimport\u001b[39;00m GaussianMultivariate\n\u001b[1;32m     10\u001b[0m \u001b[39mfrom\u001b[39;00m \u001b[39mcopulas\u001b[39;00m\u001b[39m.\u001b[39;00m\u001b[39munivariate\u001b[39;00m \u001b[39mimport\u001b[39;00m GaussianUnivariate\n\u001b[1;32m     11\u001b[0m \u001b[39mfrom\u001b[39;00m \u001b[39mrdt\u001b[39;00m \u001b[39mimport\u001b[39;00m HyperTransformer\n",
      "\u001b[0;31mModuleNotFoundError\u001b[0m: No module named 'copulas'"
     ]
    }
   ],
   "source": [
    "from sdv.demo import load_timeseries_demo"
   ]
  },
  {
   "cell_type": "code",
   "execution_count": 23,
   "metadata": {},
   "outputs": [
    {
     "ename": "NameError",
     "evalue": "name 'trend_col' is not defined",
     "output_type": "error",
     "traceback": [
      "\u001b[0;31m---------------------------------------------------------------------------\u001b[0m",
      "\u001b[0;31mNameError\u001b[0m                                 Traceback (most recent call last)",
      "Cell \u001b[0;32mIn [23], line 20\u001b[0m\n\u001b[1;32m     17\u001b[0m     \u001b[38;5;28;01mreturn\u001b[39;00m df\n\u001b[1;32m     19\u001b[0m \u001b[38;5;66;03m# Extract trends from timeseries column to create training set\u001b[39;00m\n\u001b[0;32m---> 20\u001b[0m start_val, trends_df \u001b[38;5;241m=\u001b[39m trends_only(train_df, trend_col)\n\u001b[1;32m     21\u001b[0m trends_df\n",
      "\u001b[0;31mNameError\u001b[0m: name 'trend_col' is not defined"
     ]
    }
   ],
   "source": [
    "def trends_only(source_df: pd.DataFrame, trend_col: str) -> (float, pd.DataFrame):\n",
    "    \"\"\" Extract trends as training features vs total volume \"\"\"\n",
    "    df = source_df.copy()\n",
    "    start_val = df.at[0, trend_col]\n",
    "    df.sin = df[[trend_col]].diff()\n",
    "    df.at[0, trend_col] = 0.00\n",
    "    return start_val, df\n",
    "\n",
    "\n",
    "def restore_daily(source_df: pd.DataFrame, start_val: float, trend_col: str):\n",
    "    \"\"\" Restore daily cumulative values from trend data \"\"\"\n",
    "    df = source_df.copy()\n",
    "    df.at[0, trend_col] = start_val\n",
    "    df[trend_col] = df[trend_col].cumsum()\n",
    "    df[trend_col] = df[trend_col].apply(pd.to_numeric, downcast='float', errors='coerce').round(2)\n",
    "    df.dropna(inplace=True)\n",
    "    return df\n",
    "\n",
    "# Extract trends from timeseries column to create training set\n",
    "start_val, trends_df = trends_only(train_df, trend_col)\n",
    "trends_df"
   ]
  },
  {
   "cell_type": "code",
   "execution_count": 24,
   "metadata": {},
   "outputs": [
    {
     "ename": "ModuleNotFoundError",
     "evalue": "No module named 'gretel_helpers'",
     "output_type": "error",
     "traceback": [
      "\u001b[0;31m---------------------------------------------------------------------------\u001b[0m",
      "\u001b[0;31mModuleNotFoundError\u001b[0m                       Traceback (most recent call last)",
      "Cell \u001b[0;32mIn [24], line 4\u001b[0m\n\u001b[1;32m      1\u001b[0m \u001b[38;5;66;03m# Create the Gretel Synthtetics Training / Model Configuration\u001b[39;00m\n\u001b[1;32m      3\u001b[0m \u001b[38;5;28;01mfrom\u001b[39;00m \u001b[38;5;21;01mpathlib\u001b[39;00m \u001b[38;5;28;01mimport\u001b[39;00m Path\n\u001b[0;32m----> 4\u001b[0m \u001b[38;5;28;01mfrom\u001b[39;00m \u001b[38;5;21;01mgretel_helpers\u001b[39;00m\u001b[38;5;21;01m.\u001b[39;00m\u001b[38;5;21;01msynthetics\u001b[39;00m \u001b[38;5;28;01mimport\u001b[39;00m create_df, SyntheticDataBundle\n\u001b[1;32m      6\u001b[0m config_template \u001b[38;5;241m=\u001b[39m {\n\u001b[1;32m      7\u001b[0m     \u001b[38;5;124m\"\u001b[39m\u001b[38;5;124mepochs\u001b[39m\u001b[38;5;124m\"\u001b[39m: \u001b[38;5;241m50\u001b[39m,\n\u001b[1;32m      8\u001b[0m     \u001b[38;5;124m\"\u001b[39m\u001b[38;5;124mearly_stopping\u001b[39m\u001b[38;5;124m\"\u001b[39m: \u001b[38;5;28;01mFalse\u001b[39;00m,\n\u001b[0;32m   (...)\u001b[0m\n\u001b[1;32m     12\u001b[0m     \u001b[38;5;124m\"\u001b[39m\u001b[38;5;124moverwrite\u001b[39m\u001b[38;5;124m\"\u001b[39m: \u001b[38;5;28;01mTrue\u001b[39;00m,\n\u001b[1;32m     13\u001b[0m }\n\u001b[1;32m     15\u001b[0m model \u001b[38;5;241m=\u001b[39m SyntheticDataBundle(\n\u001b[1;32m     16\u001b[0m     training_df\u001b[38;5;241m=\u001b[39mtrends_df,\n\u001b[1;32m     17\u001b[0m     delimiter\u001b[38;5;241m=\u001b[39m\u001b[38;5;124m\"\u001b[39m\u001b[38;5;124m,\u001b[39m\u001b[38;5;124m\"\u001b[39m,\n\u001b[0;32m   (...)\u001b[0m\n\u001b[1;32m     20\u001b[0m     header_prefix\u001b[38;5;241m=\u001b[39m[\u001b[38;5;124m'\u001b[39m\u001b[38;5;124mdate\u001b[39m\u001b[38;5;124m'\u001b[39m] \u001b[38;5;66;03m# Seed the model with the date field\u001b[39;00m\n\u001b[1;32m     21\u001b[0m     )\n",
      "\u001b[0;31mModuleNotFoundError\u001b[0m: No module named 'gretel_helpers'"
     ]
    }
   ],
   "source": [
    "# Create the Gretel Synthtetics Training / Model Configuration\n",
    "\n",
    "from pathlib import Path\n",
    "from gretel_helpers.synthetics import create_df, SyntheticDataBundle\n",
    "\n",
    "config_template = {\n",
    "    \"epochs\": 50,\n",
    "    \"early_stopping\": False,\n",
    "    \"vocab_size\": 20,\n",
    "    \"reset_states\": False, \n",
    "    \"checkpoint_dir\": str(Path.cwd() / \"checkpoints-sin\"),\n",
    "    \"overwrite\": True,\n",
    "}\n",
    "\n",
    "model = SyntheticDataBundle(\n",
    "    training_df=trends_df,\n",
    "    delimiter=\",\",\n",
    "    auto_validate=True, \n",
    "    synthetic_config=config_template,\n",
    "    header_prefix=['date'] # Seed the model with the date field\n",
    "    )\n",
    "\n",
    "model.build()\n",
    "model.train()"
   ]
  },
  {
   "cell_type": "code",
   "execution_count": 19,
   "metadata": {},
   "outputs": [
    {
     "ename": "TypeError",
     "evalue": "string indices must be integers",
     "output_type": "error",
     "traceback": [
      "\u001b[0;31m---------------------------------------------------------------------------\u001b[0m",
      "\u001b[0;31mTypeError\u001b[0m                                 Traceback (most recent call last)",
      "Cell \u001b[0;32mIn [19], line 12\u001b[0m\n\u001b[1;32m      4\u001b[0m task \u001b[38;5;241m=\u001b[39m {\n\u001b[1;32m      5\u001b[0m     \u001b[38;5;124m'\u001b[39m\u001b[38;5;124mtype\u001b[39m\u001b[38;5;124m'\u001b[39m: \u001b[38;5;124m'\u001b[39m\u001b[38;5;124mseed\u001b[39m\u001b[38;5;124m'\u001b[39m,\n\u001b[1;32m      6\u001b[0m     \u001b[38;5;124m'\u001b[39m\u001b[38;5;124mattrs\u001b[39m\u001b[38;5;124m'\u001b[39m: {\n\u001b[1;32m      7\u001b[0m         \u001b[38;5;124m'\u001b[39m\u001b[38;5;124mfields\u001b[39m\u001b[38;5;124m'\u001b[39m: seed_fields,\n\u001b[1;32m      8\u001b[0m     }\n\u001b[1;32m      9\u001b[0m }\n\u001b[1;32m     11\u001b[0m \u001b[38;5;66;03m# Fine tune model parameters. These are the parameters we found to work best.  This is \"Run 20\" in the document\u001b[39;00m\n\u001b[0;32m---> 12\u001b[0m config[\u001b[38;5;124m'\u001b[39m\u001b[38;5;124mmodels\u001b[39m\u001b[38;5;124m'\u001b[39m][\u001b[38;5;241m0\u001b[39m][\u001b[38;5;124m'\u001b[39m\u001b[38;5;124msynthetics\u001b[39m\u001b[38;5;124m'\u001b[39m][\u001b[38;5;124m'\u001b[39m\u001b[38;5;124mtask\u001b[39m\u001b[38;5;124m'\u001b[39m] \u001b[38;5;241m=\u001b[39m task\n\u001b[1;32m     14\u001b[0m config[\u001b[38;5;124m'\u001b[39m\u001b[38;5;124mmodels\u001b[39m\u001b[38;5;124m'\u001b[39m][\u001b[38;5;241m0\u001b[39m][\u001b[38;5;124m'\u001b[39m\u001b[38;5;124msynthetics\u001b[39m\u001b[38;5;124m'\u001b[39m][\u001b[38;5;124m'\u001b[39m\u001b[38;5;124mparams\u001b[39m\u001b[38;5;124m'\u001b[39m][\u001b[38;5;124m'\u001b[39m\u001b[38;5;124mvocab_size\u001b[39m\u001b[38;5;124m'\u001b[39m] \u001b[38;5;241m=\u001b[39m \u001b[38;5;241m19\u001b[39m\n\u001b[1;32m     15\u001b[0m config[\u001b[38;5;124m'\u001b[39m\u001b[38;5;124mmodels\u001b[39m\u001b[38;5;124m'\u001b[39m][\u001b[38;5;241m0\u001b[39m][\u001b[38;5;124m'\u001b[39m\u001b[38;5;124msynthetics\u001b[39m\u001b[38;5;124m'\u001b[39m][\u001b[38;5;124m'\u001b[39m\u001b[38;5;124mparams\u001b[39m\u001b[38;5;124m'\u001b[39m][\u001b[38;5;124m'\u001b[39m\u001b[38;5;124mlearning_rate\u001b[39m\u001b[38;5;124m'\u001b[39m] \u001b[38;5;241m=\u001b[39m \u001b[38;5;241m0.001\u001b[39m\n",
      "\u001b[0;31mTypeError\u001b[0m: string indices must be integers"
     ]
    }
   ],
   "source": [
    "#Set up the seed fields\n",
    "seed_fields = [\"date\", \"district_id\"]\n",
    "\n",
    "task = {\n",
    "    'type': 'seed',\n",
    "    'attrs': {\n",
    "        'fields': seed_fields,\n",
    "    }\n",
    "}\n",
    "\n",
    "# Fine tune model parameters. These are the parameters we found to work best.  This is \"Run 20\" in the document\n",
    "config['models'][0]['synthetics']['task'] = task\n",
    "\n",
    "config['models'][0]['synthetics']['params']['vocab_size'] = 19\n",
    "config['models'][0]['synthetics']['params']['learning_rate'] = 0.001\n",
    "config['models'][0]['synthetics']['params']['epochs'] = 500\n",
    "config['models'][0]['synthetics']['params']['dropout_rate'] = .5\n",
    "config['models'][0]['synthetics']['params']['gen_temp'] = .8\n",
    "config['models'][0]['synthetics']['generate']['num_records'] = train_df.shape[0]"
   ]
  },
  {
   "cell_type": "code",
   "execution_count": null,
   "metadata": {},
   "outputs": [],
   "source": []
  }
 ],
 "metadata": {
  "kernelspec": {
   "display_name": "Python 3.10.0 64-bit",
   "language": "python",
   "name": "python3"
  },
  "language_info": {
   "codemirror_mode": {
    "name": "ipython",
    "version": 3
   },
   "file_extension": ".py",
   "mimetype": "text/x-python",
   "name": "python",
   "nbconvert_exporter": "python",
   "pygments_lexer": "ipython3",
   "version": "3.10.0"
  },
  "orig_nbformat": 4,
  "vscode": {
   "interpreter": {
    "hash": "aee8b7b246df8f9039afb4144a1f6fd8d2ca17a180786b69acc140d282b71a49"
   }
  }
 },
 "nbformat": 4,
 "nbformat_minor": 2
}
