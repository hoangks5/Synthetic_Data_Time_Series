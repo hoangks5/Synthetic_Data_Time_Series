{
 "cells": [
  {
   "cell_type": "code",
   "execution_count": 54,
   "metadata": {},
   "outputs": [],
   "source": [
    "import random\n",
    "import pandas as pd\n",
    "import os\n",
    "data_source = 'website_classification.csv'\n",
    "\n",
    "frame_new = ['Travel',\n",
    " 'Social Networking and Messaging',\n",
    " 'News',\n",
    " 'Streaming Services']\n",
    "a = []\n",
    "with open(data_source,'r',encoding='utf-8') as f:\n",
    "    st = f.read()\n",
    "s = st.splitlines()\n",
    "for i in s:\n",
    "    t = i.split(',')\n",
    "    if t[3] in frame_new:\n",
    "        a.append(i)\n",
    "        \n",
    "strings = '\\n'.join(a)\n",
    "w = open('./data/data(1-4).csv','w',encoding='utf-8')\n",
    "w.write(strings)\n",
    "w.close()"
   ]
  },
  {
   "cell_type": "code",
   "execution_count": null,
   "metadata": {},
   "outputs": [],
   "source": []
  }
 ],
 "metadata": {
  "kernelspec": {
   "display_name": "Python 3.8.0 64-bit",
   "language": "python",
   "name": "python3"
  },
  "language_info": {
   "codemirror_mode": {
    "name": "ipython",
    "version": 3
   },
   "file_extension": ".py",
   "mimetype": "text/x-python",
   "name": "python",
   "nbconvert_exporter": "python",
   "pygments_lexer": "ipython3",
   "version": "3.8.0"
  },
  "orig_nbformat": 4,
  "vscode": {
   "interpreter": {
    "hash": "9aa74e60aaf2dd79938ee0273ff1a74eed20e2928b1c5a3de44ed4302fbd8d71"
   }
  }
 },
 "nbformat": 4,
 "nbformat_minor": 2
}
