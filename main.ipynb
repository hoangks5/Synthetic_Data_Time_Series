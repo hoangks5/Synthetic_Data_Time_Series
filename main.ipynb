{
 "cells": [
  {
   "cell_type": "code",
   "execution_count": 7,
   "metadata": {},
   "outputs": [],
   "source": [
    "from sdv.demo import load_timeseries_demo\n",
    "import pandas as pd"
   ]
  },
  {
   "cell_type": "code",
   "execution_count": 8,
   "metadata": {},
   "outputs": [],
   "source": [
    "data = pd.read_csv('./AAPL Historical Data.csv')"
   ]
  },
  {
   "cell_type": "code",
   "execution_count": 9,
   "metadata": {},
   "outputs": [
    {
     "data": {
      "text/html": [
       "<div>\n",
       "<style scoped>\n",
       "    .dataframe tbody tr th:only-of-type {\n",
       "        vertical-align: middle;\n",
       "    }\n",
       "\n",
       "    .dataframe tbody tr th {\n",
       "        vertical-align: top;\n",
       "    }\n",
       "\n",
       "    .dataframe thead th {\n",
       "        text-align: right;\n",
       "    }\n",
       "</style>\n",
       "<table border=\"1\" class=\"dataframe\">\n",
       "  <thead>\n",
       "    <tr style=\"text-align: right;\">\n",
       "      <th></th>\n",
       "      <th>Date</th>\n",
       "      <th>Price</th>\n",
       "    </tr>\n",
       "  </thead>\n",
       "  <tbody>\n",
       "    <tr>\n",
       "      <th>0</th>\n",
       "      <td>11/01/2013</td>\n",
       "      <td>19.86</td>\n",
       "    </tr>\n",
       "    <tr>\n",
       "      <th>1</th>\n",
       "      <td>12/01/2013</td>\n",
       "      <td>20.04</td>\n",
       "    </tr>\n",
       "    <tr>\n",
       "      <th>2</th>\n",
       "      <td>01/01/2014</td>\n",
       "      <td>17.88</td>\n",
       "    </tr>\n",
       "    <tr>\n",
       "      <th>3</th>\n",
       "      <td>02/01/2014</td>\n",
       "      <td>18.79</td>\n",
       "    </tr>\n",
       "    <tr>\n",
       "      <th>4</th>\n",
       "      <td>03/01/2014</td>\n",
       "      <td>19.17</td>\n",
       "    </tr>\n",
       "  </tbody>\n",
       "</table>\n",
       "</div>"
      ],
      "text/plain": [
       "         Date  Price\n",
       "0  11/01/2013  19.86\n",
       "1  12/01/2013  20.04\n",
       "2  01/01/2014  17.88\n",
       "3  02/01/2014  18.79\n",
       "4  03/01/2014  19.17"
      ]
     },
     "execution_count": 9,
     "metadata": {},
     "output_type": "execute_result"
    }
   ],
   "source": [
    "data.head()"
   ]
  },
  {
   "cell_type": "code",
   "execution_count": 11,
   "metadata": {},
   "outputs": [],
   "source": [
    "context_columns = ['Price']"
   ]
  },
  {
   "cell_type": "code",
   "execution_count": 24,
   "metadata": {},
   "outputs": [],
   "source": [
    "entity_columns = ['Date']"
   ]
  },
  {
   "cell_type": "code",
   "execution_count": 12,
   "metadata": {},
   "outputs": [],
   "source": [
    "sequence_index = 'Date'"
   ]
  },
  {
   "cell_type": "code",
   "execution_count": 13,
   "metadata": {},
   "outputs": [],
   "source": [
    "from sdv.timeseries import PAR\n"
   ]
  },
  {
   "cell_type": "code",
   "execution_count": 29,
   "metadata": {},
   "outputs": [],
   "source": [
    "model = PAR(\n",
    "   context_columns=context_columns,\n",
    "   sequence_index=sequence_index,\n",
    "  )"
   ]
  },
  {
   "cell_type": "code",
   "execution_count": 30,
   "metadata": {},
   "outputs": [
    {
     "ename": "ValueError",
     "evalue": "Context columns are not constant within each segment.",
     "output_type": "error",
     "traceback": [
      "\u001b[0;31m---------------------------------------------------------------------------\u001b[0m",
      "\u001b[0;31mValueError\u001b[0m                                Traceback (most recent call last)",
      "Cell \u001b[0;32mIn [30], line 1\u001b[0m\n\u001b[0;32m----> 1\u001b[0m model\u001b[38;5;241m.\u001b[39mfit(data)\n",
      "File \u001b[0;32m/Library/Frameworks/Python.framework/Versions/3.8/lib/python3.8/site-packages/sdv/timeseries/base.py:210\u001b[0m, in \u001b[0;36mBaseTimeseriesModel.fit\u001b[0;34m(self, timeseries_data)\u001b[0m\n\u001b[1;32m    207\u001b[0m     \u001b[39mself\u001b[39m\u001b[39m.\u001b[39m_fit_context_model(transformed)\n\u001b[1;32m    209\u001b[0m LOGGER\u001b[39m.\u001b[39mdebug(\u001b[39m'\u001b[39m\u001b[39mFitting \u001b[39m\u001b[39m%s\u001b[39;00m\u001b[39m model to table \u001b[39m\u001b[39m%s\u001b[39;00m\u001b[39m'\u001b[39m, \u001b[39mself\u001b[39m\u001b[39m.\u001b[39m\u001b[39m__class__\u001b[39m\u001b[39m.\u001b[39m\u001b[39m__name__\u001b[39m, \u001b[39mself\u001b[39m\u001b[39m.\u001b[39m_metadata\u001b[39m.\u001b[39mname)\n\u001b[0;32m--> 210\u001b[0m \u001b[39mself\u001b[39;49m\u001b[39m.\u001b[39;49m_fit(transformed)\n",
      "File \u001b[0;32m/Library/Frameworks/Python.framework/Versions/3.8/lib/python3.8/site-packages/sdv/timeseries/deepecho.py:56\u001b[0m, in \u001b[0;36mDeepEchoModel._fit\u001b[0;34m(self, timeseries_data)\u001b[0m\n\u001b[1;32m     49\u001b[0m \u001b[39mself\u001b[39m\u001b[39m.\u001b[39m_output_columns \u001b[39m=\u001b[39m \u001b[39mlist\u001b[39m(timeseries_data\u001b[39m.\u001b[39mcolumns)\n\u001b[1;32m     50\u001b[0m \u001b[39mself\u001b[39m\u001b[39m.\u001b[39m_data_columns \u001b[39m=\u001b[39m [\n\u001b[1;32m     51\u001b[0m     column\n\u001b[1;32m     52\u001b[0m     \u001b[39mfor\u001b[39;00m column \u001b[39min\u001b[39;00m timeseries_data\u001b[39m.\u001b[39mcolumns\n\u001b[1;32m     53\u001b[0m     \u001b[39mif\u001b[39;00m column \u001b[39mnot\u001b[39;00m \u001b[39min\u001b[39;00m \u001b[39mself\u001b[39m\u001b[39m.\u001b[39m_entity_columns \u001b[39m+\u001b[39m \u001b[39mself\u001b[39m\u001b[39m.\u001b[39m_context_columns\n\u001b[1;32m     54\u001b[0m ]\n\u001b[0;32m---> 56\u001b[0m sequences \u001b[39m=\u001b[39m assemble_sequences(\n\u001b[1;32m     57\u001b[0m     timeseries_data,\n\u001b[1;32m     58\u001b[0m     \u001b[39mself\u001b[39;49m\u001b[39m.\u001b[39;49m_entity_columns,\n\u001b[1;32m     59\u001b[0m     \u001b[39mself\u001b[39;49m\u001b[39m.\u001b[39;49m_context_columns,\n\u001b[1;32m     60\u001b[0m     \u001b[39mself\u001b[39;49m\u001b[39m.\u001b[39;49m_segment_size,\n\u001b[1;32m     61\u001b[0m     \u001b[39mself\u001b[39;49m\u001b[39m.\u001b[39;49m_sequence_index,\n\u001b[1;32m     62\u001b[0m     drop_sequence_index\u001b[39m=\u001b[39;49m\u001b[39mFalse\u001b[39;49;00m\n\u001b[1;32m     63\u001b[0m )\n\u001b[1;32m     65\u001b[0m data_types \u001b[39m=\u001b[39m \u001b[39mlist\u001b[39m()\n\u001b[1;32m     66\u001b[0m context_types \u001b[39m=\u001b[39m \u001b[39mlist\u001b[39m()\n",
      "File \u001b[0;32m/Library/Frameworks/Python.framework/Versions/3.8/lib/python3.8/site-packages/deepecho/sequences.py:191\u001b[0m, in \u001b[0;36massemble_sequences\u001b[0;34m(data, entity_columns, context_columns, segment_size, sequence_index, drop_sequence_index)\u001b[0m\n\u001b[1;32m    187\u001b[0m         entity_segments \u001b[39m=\u001b[39m segment_sequence(sequence, segment_size,\n\u001b[1;32m    188\u001b[0m                                            sequence_index, drop_sequence_index)\n\u001b[1;32m    189\u001b[0m         segments\u001b[39m.\u001b[39mextend(entity_segments)\n\u001b[0;32m--> 191\u001b[0m \u001b[39mreturn\u001b[39;00m _convert_to_dicts(segments, context_columns)\n",
      "File \u001b[0;32m/Library/Frameworks/Python.framework/Versions/3.8/lib/python3.8/site-packages/deepecho/sequences.py:113\u001b[0m, in \u001b[0;36m_convert_to_dicts\u001b[0;34m(segments, context_columns)\u001b[0m\n\u001b[1;32m    111\u001b[0m context \u001b[39m=\u001b[39m segment[context_columns]\n\u001b[1;32m    112\u001b[0m \u001b[39mif\u001b[39;00m \u001b[39mlen\u001b[39m(context\u001b[39m.\u001b[39mdrop_duplicates()) \u001b[39m>\u001b[39m \u001b[39m1\u001b[39m:\n\u001b[0;32m--> 113\u001b[0m     \u001b[39mraise\u001b[39;00m \u001b[39mValueError\u001b[39;00m(\u001b[39m'\u001b[39m\u001b[39mContext columns are not constant within each segment.\u001b[39m\u001b[39m'\u001b[39m)\n\u001b[1;32m    115\u001b[0m context \u001b[39m=\u001b[39m context\u001b[39m.\u001b[39miloc[\u001b[39m0\u001b[39m]\u001b[39m.\u001b[39mvalues\n\u001b[1;32m    116\u001b[0m segment \u001b[39m=\u001b[39m segment\u001b[39m.\u001b[39mdrop(context_columns, axis\u001b[39m=\u001b[39m\u001b[39m1\u001b[39m)\n",
      "\u001b[0;31mValueError\u001b[0m: Context columns are not constant within each segment."
     ]
    }
   ],
   "source": [
    "model.fit(data)"
   ]
  },
  {
   "cell_type": "code",
   "execution_count": null,
   "metadata": {},
   "outputs": [],
   "source": []
  }
 ],
 "metadata": {
  "kernelspec": {
   "display_name": "Python 3.10.0 64-bit",
   "language": "python",
   "name": "python3"
  },
  "language_info": {
   "codemirror_mode": {
    "name": "ipython",
    "version": 3
   },
   "file_extension": ".py",
   "mimetype": "text/x-python",
   "name": "python",
   "nbconvert_exporter": "python",
   "pygments_lexer": "ipython3",
   "version": "3.8.0"
  },
  "orig_nbformat": 4,
  "vscode": {
   "interpreter": {
    "hash": "aee8b7b246df8f9039afb4144a1f6fd8d2ca17a180786b69acc140d282b71a49"
   }
  }
 },
 "nbformat": 4,
 "nbformat_minor": 2
}
