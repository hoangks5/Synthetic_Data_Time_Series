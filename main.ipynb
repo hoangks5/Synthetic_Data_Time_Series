{
 "cells": [
  {
   "cell_type": "code",
   "execution_count": 4,
   "metadata": {},
   "outputs": [],
   "source": [
    "from sdv.demo import load_timeseries_demo"
   ]
  },
  {
   "cell_type": "code",
   "execution_count": null,
   "metadata": {},
   "outputs": [],
   "source": []
  },
  {
   "cell_type": "code",
   "execution_count": 5,
   "metadata": {},
   "outputs": [
    {
     "data": {
      "text/html": [
       "<div>\n",
       "<style scoped>\n",
       "    .dataframe tbody tr th:only-of-type {\n",
       "        vertical-align: middle;\n",
       "    }\n",
       "\n",
       "    .dataframe tbody tr th {\n",
       "        vertical-align: top;\n",
       "    }\n",
       "\n",
       "    .dataframe thead th {\n",
       "        text-align: right;\n",
       "    }\n",
       "</style>\n",
       "<table border=\"1\" class=\"dataframe\">\n",
       "  <thead>\n",
       "    <tr style=\"text-align: right;\">\n",
       "      <th></th>\n",
       "      <th>Symbol</th>\n",
       "      <th>Date</th>\n",
       "      <th>Open</th>\n",
       "      <th>Close</th>\n",
       "      <th>Volume</th>\n",
       "      <th>MarketCap</th>\n",
       "      <th>Sector</th>\n",
       "      <th>Industry</th>\n",
       "    </tr>\n",
       "  </thead>\n",
       "  <tbody>\n",
       "    <tr>\n",
       "      <th>0</th>\n",
       "      <td>AAPL</td>\n",
       "      <td>2018-12-31</td>\n",
       "      <td>39.632500</td>\n",
       "      <td>39.435001</td>\n",
       "      <td>140014000</td>\n",
       "      <td>7.378734e+11</td>\n",
       "      <td>Technology</td>\n",
       "      <td>Computer Manufacturing</td>\n",
       "    </tr>\n",
       "    <tr>\n",
       "      <th>1</th>\n",
       "      <td>AAPL</td>\n",
       "      <td>2019-01-02</td>\n",
       "      <td>38.722500</td>\n",
       "      <td>39.480000</td>\n",
       "      <td>148158800</td>\n",
       "      <td>7.378734e+11</td>\n",
       "      <td>Technology</td>\n",
       "      <td>Computer Manufacturing</td>\n",
       "    </tr>\n",
       "    <tr>\n",
       "      <th>2</th>\n",
       "      <td>AAPL</td>\n",
       "      <td>2019-01-03</td>\n",
       "      <td>35.994999</td>\n",
       "      <td>35.547501</td>\n",
       "      <td>365248800</td>\n",
       "      <td>7.378734e+11</td>\n",
       "      <td>Technology</td>\n",
       "      <td>Computer Manufacturing</td>\n",
       "    </tr>\n",
       "    <tr>\n",
       "      <th>3</th>\n",
       "      <td>AAPL</td>\n",
       "      <td>2019-01-04</td>\n",
       "      <td>36.132500</td>\n",
       "      <td>37.064999</td>\n",
       "      <td>234428400</td>\n",
       "      <td>7.378734e+11</td>\n",
       "      <td>Technology</td>\n",
       "      <td>Computer Manufacturing</td>\n",
       "    </tr>\n",
       "    <tr>\n",
       "      <th>4</th>\n",
       "      <td>AAPL</td>\n",
       "      <td>2019-01-07</td>\n",
       "      <td>37.174999</td>\n",
       "      <td>36.982498</td>\n",
       "      <td>219111200</td>\n",
       "      <td>7.378734e+11</td>\n",
       "      <td>Technology</td>\n",
       "      <td>Computer Manufacturing</td>\n",
       "    </tr>\n",
       "  </tbody>\n",
       "</table>\n",
       "</div>"
      ],
      "text/plain": [
       "  Symbol       Date       Open      Close     Volume     MarketCap  \\\n",
       "0   AAPL 2018-12-31  39.632500  39.435001  140014000  7.378734e+11   \n",
       "1   AAPL 2019-01-02  38.722500  39.480000  148158800  7.378734e+11   \n",
       "2   AAPL 2019-01-03  35.994999  35.547501  365248800  7.378734e+11   \n",
       "3   AAPL 2019-01-04  36.132500  37.064999  234428400  7.378734e+11   \n",
       "4   AAPL 2019-01-07  37.174999  36.982498  219111200  7.378734e+11   \n",
       "\n",
       "       Sector                Industry  \n",
       "0  Technology  Computer Manufacturing  \n",
       "1  Technology  Computer Manufacturing  \n",
       "2  Technology  Computer Manufacturing  \n",
       "3  Technology  Computer Manufacturing  \n",
       "4  Technology  Computer Manufacturing  "
      ]
     },
     "execution_count": 5,
     "metadata": {},
     "output_type": "execute_result"
    }
   ],
   "source": [
    "data = load_timeseries_demo()\n",
    "data.head()"
   ]
  },
  {
   "cell_type": "code",
   "execution_count": 6,
   "metadata": {},
   "outputs": [
    {
     "data": {
      "text/plain": [
       "pandas.core.frame.DataFrame"
      ]
     },
     "execution_count": 6,
     "metadata": {},
     "output_type": "execute_result"
    }
   ],
   "source": [
    "type(data)"
   ]
  },
  {
   "cell_type": "code",
   "execution_count": null,
   "metadata": {},
   "outputs": [],
   "source": []
  }
 ],
 "metadata": {
  "kernelspec": {
   "display_name": "Python 3.10.0 64-bit",
   "language": "python",
   "name": "python3"
  },
  "language_info": {
   "codemirror_mode": {
    "name": "ipython",
    "version": 3
   },
   "file_extension": ".py",
   "mimetype": "text/x-python",
   "name": "python",
   "nbconvert_exporter": "python",
   "pygments_lexer": "ipython3",
   "version": "3.8.0"
  },
  "orig_nbformat": 4,
  "vscode": {
   "interpreter": {
    "hash": "aee8b7b246df8f9039afb4144a1f6fd8d2ca17a180786b69acc140d282b71a49"
   }
  }
 },
 "nbformat": 4,
 "nbformat_minor": 2
}
